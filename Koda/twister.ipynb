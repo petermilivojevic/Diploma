{
 "cells": [
  {
   "cell_type": "code",
   "execution_count": 75,
   "metadata": {},
   "outputs": [
    {
     "name": "stdout",
     "output_type": "stream",
     "text": [
      "rumena\n",
      "leva roka\n"
     ]
    }
   ],
   "source": [
    "import random\n",
    "\n",
    "barva = random.randint(1,4)\n",
    "\n",
    "if barva == 1:\n",
    "    print('rumena')\n",
    "if barva == 2:\n",
    "    print('oranžna')\n",
    "if barva == 3:\n",
    "    print('modra')\n",
    "if barva == 4:\n",
    "    print('roza')\n",
    "\n",
    "ud = random.randint(1,4)\n",
    "if ud == 1:\n",
    "    print('leva roka')\n",
    "if ud == 2:\n",
    "    print('desna roka')\n",
    "if ud == 3:\n",
    "    print('leva noga')\n",
    "if ud == 4:\n",
    "    print('desna noga')\n",
    "\n"
   ]
  }
 ],
 "metadata": {
  "kernelspec": {
   "display_name": "Python 3",
   "language": "python",
   "name": "python3"
  },
  "language_info": {
   "codemirror_mode": {
    "name": "ipython",
    "version": 3
   },
   "file_extension": ".py",
   "mimetype": "text/x-python",
   "name": "python",
   "nbconvert_exporter": "python",
   "pygments_lexer": "ipython3",
   "version": "3.12.2"
  }
 },
 "nbformat": 4,
 "nbformat_minor": 2
}
