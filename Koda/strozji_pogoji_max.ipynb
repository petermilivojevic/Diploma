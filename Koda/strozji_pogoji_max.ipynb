{
 "cells": [
  {
   "cell_type": "code",
   "execution_count": 1,
   "metadata": {},
   "outputs": [
    {
     "name": "stdout",
     "output_type": "stream",
     "text": [
      "1 za 2 vozlišč in 1 povezav\n",
      "1 za 2 vozlišč\n"
     ]
    }
   ],
   "source": [
    "import itertools as it\n",
    "import networkx as nx\n",
    "\n",
    "def vsi_grafi(n, e):\n",
    "    # Generate all possible edges combinations\n",
    "    all_edges = list(it.combinations(range(n), 2))\n",
    "    \n",
    "    # Check if e is valid\n",
    "    if e < n-1 or e > len(all_edges):\n",
    "        raise ValueError(\"Invalid number of edges for a graph with {} nodes.\".format(n))\n",
    "    \n",
    "    # Generate all graphs with n nodes and e edges\n",
    "    graphs = []\n",
    "    for edges in it.combinations(all_edges, e):\n",
    "        G = nx.Graph()\n",
    "        G.add_nodes_from(range(n))\n",
    "        G.add_edges_from(edges)\n",
    "        if nx.is_connected(G):\n",
    "            graphs.append(G)\n",
    "    \n",
    "    return graphs\n",
    "\n",
    "n=2\n",
    "\n",
    "for i in range(2, n + 1):\n",
    "    vsota = 0\n",
    "    for j in range(i-1, int(i*(i-1)/2 + 1)):\n",
    "        v = 0\n",
    "        for graf in vsi_grafi(i, j):\n",
    "            vsota += 1\n",
    "            v += 1\n",
    "        print(f'{v} za {i} vozlišč in {j} povezav')\n",
    "    print(f'{vsota} za {i} vozlišč')"
   ]
  },
  {
   "cell_type": "code",
   "execution_count": 9,
   "metadata": {},
   "outputs": [
    {
     "name": "stdout",
     "output_type": "stream",
     "text": [
      "1 za 2 vozlišč in 1 povezav\n",
      "1 za 2 vozlišč\n",
      "0 za 3 vozlišč in 2 povezav\n",
      "1 za 3 vozlišč in 3 povezav\n",
      "1 za 3 vozlišč\n",
      "4 za 4 vozlišč in 3 povezav\n",
      "0 za 4 vozlišč in 4 povezav\n",
      "0 za 4 vozlišč in 5 povezav\n",
      "1 za 4 vozlišč in 6 povezav\n",
      "5 za 4 vozlišč\n",
      "5 za 5 vozlišč in 4 povezav\n",
      "12 za 5 vozlišč in 5 povezav\n",
      "0 za 5 vozlišč in 6 povezav\n",
      "0 za 5 vozlišč in 7 povezav\n",
      "0 za 5 vozlišč in 8 povezav\n",
      "0 za 5 vozlišč in 9 povezav\n",
      "1 za 5 vozlišč in 10 povezav\n",
      "18 za 5 vozlišč\n",
      "6 za 6 vozlišč in 5 povezav\n",
      "120 za 6 vozlišč in 6 povezav\n",
      "180 za 6 vozlišč in 7 povezav\n",
      "0 za 6 vozlišč in 8 povezav\n",
      "10 za 6 vozlišč in 9 povezav\n",
      "0 za 6 vozlišč in 10 povezav\n",
      "0 za 6 vozlišč in 11 povezav\n",
      "0 za 6 vozlišč in 12 povezav\n",
      "0 za 6 vozlišč in 13 povezav\n",
      "0 za 6 vozlišč in 14 povezav\n",
      "1 za 6 vozlišč in 15 povezav\n",
      "317 za 6 vozlišč\n",
      "7 za 7 vozlišč in 6 povezav\n",
      "1260 za 7 vozlišč in 7 povezav\n",
      "0 za 7 vozlišč in 8 povezav\n",
      "1890 za 7 vozlišč in 9 povezav\n",
      "630 za 7 vozlišč in 10 povezav\n",
      "0 za 7 vozlišč in 11 povezav\n",
      "35 za 7 vozlišč in 12 povezav\n",
      "0 za 7 vozlišč in 13 povezav\n",
      "0 za 7 vozlišč in 14 povezav\n",
      "0 za 7 vozlišč in 15 povezav\n",
      "0 za 7 vozlišč in 16 povezav\n",
      "0 za 7 vozlišč in 17 povezav\n",
      "0 za 7 vozlišč in 18 povezav\n",
      "0 za 7 vozlišč in 19 povezav\n",
      "0 za 7 vozlišč in 20 povezav\n",
      "1 za 7 vozlišč in 21 povezav\n",
      "3823 za 7 vozlišč\n"
     ]
    }
   ],
   "source": [
    "def kriticno_max(graf):\n",
    "    for v1 in graf.nodes:\n",
    "        for v2 in graf.nodes - {v1}:\n",
    "            testni_graf = graf.copy()\n",
    "            testni_graf.add_edge(v1, v2)\n",
    "            if nx.eccentricity(graf, v1) > nx.eccentricity(testni_graf, v1) or nx.eccentricity(graf, v2) > nx.eccentricity(testni_graf, v2):\n",
    "                return f\"Ni stabilen za dodajanje\"\n",
    "    for e in graf.edges():\n",
    "        testni_graf = graf.copy()\n",
    "        testni_graf.remove_edge(*e)\n",
    "        if nx.is_connected(testni_graf):\n",
    "            if nx.eccentricity(graf, e[0]) >= nx.eccentricity(testni_graf, e[0]) or nx.eccentricity(graf, e[1]) >= nx.eccentricity(testni_graf, e[1]):\n",
    "                return f\"Ni kritičen za odstranitev\"\n",
    "    return 'Je ravnovesje'\n",
    "\n",
    "\n",
    "n=7\n",
    "\n",
    "for i in range(2, n + 1):\n",
    "    vsota = 0\n",
    "    for j in range(i-1, int(i*(i-1)/2 + 1)):\n",
    "        v = 0\n",
    "        for graf in vsi_grafi(i, j):\n",
    "            if kriticno_max(graf) == 'Je ravnovesje':\n",
    "                vsota += 1\n",
    "                v += 1\n",
    "        print(f'{v} za {i} vozlišč in {j} povezav')\n",
    "    print(f'{vsota} za {i} vozlišč')"
   ]
  }
 ],
 "metadata": {
  "kernelspec": {
   "display_name": "Python 3",
   "language": "python",
   "name": "python3"
  },
  "language_info": {
   "codemirror_mode": {
    "name": "ipython",
    "version": 3
   },
   "file_extension": ".py",
   "mimetype": "text/x-python",
   "name": "python",
   "nbconvert_exporter": "python",
   "pygments_lexer": "ipython3",
   "version": "3.12.2"
  }
 },
 "nbformat": 4,
 "nbformat_minor": 2
}
